{
 "cells": [
  {
   "cell_type": "markdown",
   "id": "3c486f12",
   "metadata": {},
   "source": [
    "link to Kaggle:\n",
    "https://www.kaggle.com/datasets/wcukierski/enron-email-dataset/data\n",
    "\n",
    "git link:\n",
    "https://github.com/MaorEl/cyber-ai"
   ]
  },
  {
   "cell_type": "code",
   "execution_count": null,
   "id": "9942a863-81ca-4a79-906a-4ad0fd380af0",
   "metadata": {},
   "outputs": [],
   "source": [
    "import os\n",
    "import pandas as pd\n",
    "import numpy as np"
   ]
  },
  {
   "cell_type": "code",
   "execution_count": null,
   "id": "371bf65f-2a04-433f-aede-74c26a35500f",
   "metadata": {},
   "outputs": [],
   "source": [
    "enron_df = pd.read_pickle('enron_students.pkl')\n",
    "enron_df.info()"
   ]
  },
  {
   "cell_type": "code",
   "execution_count": 100,
   "id": "6faf15cb-5141-4e5d-a8d7-2b9200e1a9be",
   "metadata": {},
   "outputs": [
    {
     "data": {
      "text/plain": [
       "Index(['Date', 'From', 'To', 'X-To', 'X-From', 'X-cc', 'X-bcc', 'Subject',\n",
       "       'email_body', 'verdict', 'violated_rules', 'all_mails'],\n",
       "      dtype='object')"
      ]
     },
     "execution_count": 100,
     "metadata": {},
     "output_type": "execute_result"
    }
   ],
   "source": [
    "enron_df.columns"
   ]
  },
  {
   "cell_type": "code",
   "execution_count": null,
   "id": "6d158093",
   "metadata": {},
   "outputs": [],
   "source": [
    "# data cleaning\n",
    "enron_df['X-From'] = enron_df['X-From'].fillna('')\n",
    "enron_df['X-To'] = enron_df['X-To'].fillna('')\n",
    "enron_df['X-cc'] = enron_df['X-cc'].fillna('')\n",
    "enron_df['X-bcc'] = enron_df['X-bcc'].fillna('')\n"
   ]
  },
  {
   "cell_type": "markdown",
   "id": "ee1ad83d",
   "metadata": {},
   "source": [
    "We want to check the number of emails that are send, to understand our approach in enforcing the policies"
   ]
  },
  {
   "cell_type": "code",
   "execution_count": 87,
   "id": "9e974c14-b4be-4c5a-96c7-26f9313e9d68",
   "metadata": {},
   "outputs": [
    {
     "name": "stdout",
     "output_type": "stream",
     "text": [
      "Maximum number of emails in 'To': 1029\n",
      "Maximum number of emails in 'X-To': 622\n",
      "Maximum number of emails in 'X-cc': 565\n",
      "Maximum number of emails in 'X-bcc': 43\n",
      "Maximum number of emails that are sent under 'all_mails': 1047\n"
     ]
    }
   ],
   "source": [
    "import re\n",
    "\n",
    "def extract_emails(text):\n",
    "    if pd.isna(text):\n",
    "        return []\n",
    "    # Regex to match email addresses\n",
    "    email_pattern = r'\\b[A-Za-z0-9._%+-]+@[A-Za-z0-9.-]+\\.[A-Z|a-z]{2,}\\b'\n",
    "    return re.findall(email_pattern, text)\n",
    "\n",
    "def max_emails_per_column(column):\n",
    "    # Extract emails from each cell in the column, count them, and find the index with the maximum number\n",
    "    email_counts = column.apply(lambda x: len(extract_emails(x)))\n",
    "    max_emails = email_counts.max()\n",
    "    min_emails = email_counts.min()\n",
    "    max_row = email_counts.idxmax()\n",
    "    return max_emails, min_emails, max_row\n",
    "\n",
    "# Calculate the maximum number of emails for each column\n",
    "max_emails_column1 = max_emails_per_column(enron_df['To'])\n",
    "max_emails_column2 = max_emails_per_column(enron_df['X-To'])\n",
    "max_emails_column3 = max_emails_per_column(enron_df['X-cc'])\n",
    "max_emails_column4 = max_emails_per_column(enron_df['X-bcc'])\n",
    "\n",
    "print(f\"Maximum number of emails in 'To': {max_emails_column1[0]}\")\n",
    "print(f\"Maximum number of emails in 'X-To': {max_emails_column2[0]}\")\n",
    "print(f\"Maximum number of emails in 'X-cc': {max_emails_column3[0]}\")\n",
    "print(f\"Maximum number of emails in 'X-bcc': {max_emails_column4[0]}\")\n",
    "\n",
    "def get_all_mails(row):\n",
    "    return extract_emails(row['To']) + extract_emails(row['X-To']) + extract_emails(row['X-cc']) + extract_emails(row['X-bcc'])\n",
    "\n",
    "\n",
    "enron_df['sent_emails'] = enron_df.apply(get_all_mails, axis=1)\n",
    "\n",
    "# Calculate the maximum number of emails in the 'sent_emails' column\n",
    "max_emails_column5 = enron_df['sent_emails'].apply(len).max()\n",
    "print(f\"Maximum number of emails that are sent under 'sent_emails': {max_emails_column5}\")"
   ]
  },
  {
   "cell_type": "markdown",
   "id": "2910e53c",
   "metadata": {},
   "source": [
    "Plot the maximum number of emails in each category"
   ]
  },
  {
   "cell_type": "code",
   "execution_count": 101,
   "id": "aa4829b9",
   "metadata": {},
   "outputs": [
    {
     "data": {
      "text/plain": [
       "<Axes: title={'center': 'Maximum Number of Emails in Each Column'}, xlabel='Type'>"
      ]
     },
     "execution_count": 101,
     "metadata": {},
     "output_type": "execute_result"
    },
    {
     "data": {
      "image/png": "[encoded data removed]",
      "text/plain": [
       "<Figure size 640x480 with 1 Axes>"
      ]
     },
     "metadata": {},
     "output_type": "display_data"
    }
   ],
   "source": [
    "emails_df = pd.DataFrame({\n",
    "    'Type': ['To', 'X-To', 'X-cc', 'X-bcc'],\n",
    "    'Max': [max_emails_column1[0], max_emails_column2[0], max_emails_column3[0], max_emails_column4[0]],\n",
    "    # 'Min': [max_emails_column1[1], max_emails_column2[1], max_emails_column3[1], max_emails_column4[1]]\n",
    "})\n",
    "\n",
    "emails_df.plot(x='Type', y=['Max'], kind='bar', title='Maximum Number of Emails in Each Column')"
   ]
  },
  {
   "cell_type": "markdown",
   "id": "1716e2ce",
   "metadata": {},
   "source": [
    "We want to see the total number of violated data"
   ]
  },
  {
   "cell_type": "code",
   "execution_count": 102,
   "id": "61cefd6b",
   "metadata": {},
   "outputs": [
    {
     "name": "stdout",
     "output_type": "stream",
     "text": [
      "Number of emails violating rule 1.1: 443\n",
      "Number of emails violating rule 1.2: 1987\n",
      "Number of emails violating rule 1.3: 30632\n",
      "Number of emails violating rule 2.1: 9097\n",
      "Number of emails violating rule 2.2: 9783\n",
      "Number of emails violating rule 2.3: 18736\n",
      "Total number of emails violating rules: 70678\n"
     ]
    }
   ],
   "source": [
    "# check sum of violated rules\n",
    "violated_rule_11 = enron_df['violated_rules'].str.contains('1.1', na=False).sum()\n",
    "violated_rule_12 = enron_df['violated_rules'].str.contains('1.2', na=False).sum()\n",
    "violated_rule_13 = enron_df['violated_rules'].str.contains('1.3', na=False).sum()\n",
    "violated_rule_21 = enron_df['violated_rules'].str.contains('2.1', na=False).sum()\n",
    "violated_rule_22 = enron_df['violated_rules'].str.contains('2.2', na=False).sum()\n",
    "violated_rule_23 = enron_df['violated_rules'].str.contains('2.3', na=False).sum()\n",
    "\n",
    "print(f\"Number of emails violating rule 1.1: {violated_rule_11}\")\n",
    "print(f\"Number of emails violating rule 1.2: {violated_rule_12}\")\n",
    "print(f\"Number of emails violating rule 1.3: {violated_rule_13}\")\n",
    "\n",
    "print(f\"Number of emails violating rule 2.1: {violated_rule_21}\")\n",
    "print(f\"Number of emails violating rule 2.2: {violated_rule_22}\")\n",
    "print(f\"Number of emails violating rule 2.3: {violated_rule_23}\")\n",
    "\n",
    "print(f\"Total number of emails violating rules: {violated_rule_11 + violated_rule_12 + violated_rule_13 + violated_rule_21 + violated_rule_22 + violated_rule_23}\")\n",
    "\n"
   ]
  },
  {
   "cell_type": "code",
   "execution_count": 103,
   "id": "142d2572",
   "metadata": {},
   "outputs": [
    {
     "data": {
      "image/png": "[encoded data removed]",
      "text/plain": [
       "<Figure size 640x480 with 1 Axes>"
      ]
     },
     "metadata": {},
     "output_type": "display_data"
    }
   ],
   "source": [
    "# plot the number of samples violating each rule\n",
    "violated_rules_df = pd.DataFrame({\n",
    "    'Rule': ['1.1', '1.2', '1.3', '2.1', '2.2', '2.3'],\n",
    "    'Count': [violated_rule_11, violated_rule_12, violated_rule_13, violated_rule_21, violated_rule_22, violated_rule_23]\n",
    "})\n",
    "\n",
    "ax = violated_rules_df.plot.bar(x='Rule', y='Count', title='Number of samples Violating Each Rule')\n",
    "for container in ax.containers:\n",
    "    ax.bar_label(container)"
   ]
  },
  {
   "cell_type": "code",
   "execution_count": null,
   "id": "bddeec14",
   "metadata": {},
   "outputs": [
    {
     "name": "stdout",
     "output_type": "stream",
     "text": [
      "Number of emails violating rules 1.2 and 2.1: 1671\n",
      "Number of emails violating rules 1.3 and 2.2: 2094\n",
      "Number of emails violating rules 1.3, 2.1 and 2.2: 64\n",
      "Number of emails violating all rules 1.* and 2.3: 9244\n"
     ]
    }
   ],
   "source": [
    "# check multiple violations, 1.2 with 2.1, 1.3 with 2.2, 1.3 with 2.1 and 2.2\n",
    "violated_rule_12_21 = enron_df[(enron_df['violated_rules'].str.contains('1.2', na=False)) & (enron_df['violated_rules'].str.contains('2.1', na=False))].shape[0]\n",
    "violated_rule_13_22 = enron_df[(enron_df['violated_rules'].str.contains('1.3', na=False)) & (enron_df['violated_rules'].str.contains('2.2', na=False))].shape[0]\n",
    "violated_rule_13_21_22 = enron_df[(enron_df['violated_rules'].str.contains('1.3', na=False)) & (enron_df['violated_rules'].str.contains('2.1', na=False)) & (enron_df['violated_rules'].str.contains('2.2', na=False))].shape[0]\n",
    "\n",
    "print(f\"Number of emails violating rules 1.2 and 2.1: {violated_rule_12_21}\")\n",
    "print(f\"Number of emails violating rules 1.3 and 2.2: {violated_rule_13_22}\")\n",
    "print(f\"Number of emails violating rules 1.3, 2.1 and 2.2: {violated_rule_13_21_22}\")\n",
    "\n",
    "# check for all violations with 1.* and 2.3\n",
    "violated_rule_1_all = enron_df[(enron_df['violated_rules'].str.contains('1.', na=False)) & (enron_df['violated_rules'].str.contains('2.3', na=False))].shape[0]\n",
    "\n",
    "print(f\"Number of emails violating all rules 1.* and 2.3: {violated_rule_1_all}\")"
   ]
  },
  {
   "cell_type": "markdown",
   "id": "a04a095d",
   "metadata": {},
   "source": [
    "We want to get all mails and the corresponding departments for them"
   ]
  },
  {
   "cell_type": "code",
   "execution_count": 105,
   "id": "189a31d5",
   "metadata": {},
   "outputs": [
    {
     "name": "stdout",
     "output_type": "stream",
     "text": [
      "Total number of unique emails: 124600\n"
     ]
    }
   ],
   "source": [
    "def extract_sent_to_emails(text):\n",
    "    emails = extract_emails(text)\n",
    "    if len(emails) > 0:\n",
    "        return emails\n",
    "    return []\n",
    "\n",
    "enron_df['total_mails'] = enron_df['To'].apply(extract_sent_to_emails) + enron_df['X-To'].apply(extract_sent_to_emails) + enron_df['X-cc'].apply(extract_sent_to_emails) + enron_df['X-bcc'].apply(extract_sent_to_emails) + enron_df['From'].apply(extract_sent_to_emails) + enron_df['X-From'].apply(extract_sent_to_emails) \n",
    "enron_df['total_mails'] = enron_df['total_mails'].apply(lambda x: set(x))\n",
    "all_mails = enron_df['total_mails'].agg(lambda x: set.union(*x))\n",
    "# drop the column total_mails\n",
    "enron_df.drop(columns=['total_mails'], inplace=True)\n",
    "print(f\"Total number of unique emails: {len(all_mails)}\")\n"
   ]
  },
  {
   "cell_type": "code",
   "execution_count": 106,
   "id": "fd910650",
   "metadata": {},
   "outputs": [
    {
     "name": "stdout",
     "output_type": "stream",
     "text": [
      "Could not extract email from: u@d.h\n",
      "Could not extract email from: pep <performance.>\n",
      "Total unique emails in 'X-From': 20306\n"
     ]
    }
   ],
   "source": [
    "# Total unique emails from 'From' column in ernon_df\n",
    "def extract_single_email_from_text(text):\n",
    "    emails = extract_emails(text)\n",
    "    if (len(emails) > 1):\n",
    "        print(f\"Multiple emails found in: {text}\")\n",
    "    elif len(emails) == 1:\n",
    "        return emails[0]\n",
    "    print(f\"Could not extract email from: {text}\")\n",
    "    return None\n",
    "\n",
    "unique_emails_from = enron_df['From'].apply(extract_single_email_from_text).nunique()\n",
    "print(f\"Total unique emails in 'X-From': {unique_emails_from}\")"
   ]
  },
  {
   "cell_type": "code",
   "execution_count": 114,
   "id": "7ab1d161",
   "metadata": {},
   "outputs": [
    {
     "name": "stdout",
     "output_type": "stream",
     "text": [
      "multiple count 432\n",
      "Total number of emails outside enron.com: 86745\n",
      "Total number of emails outside enron.com with departments: 86745\n",
      "ECT 310\n",
      "NA 86805\n",
      "Other 6102\n",
      "EES 72\n"
     ]
    }
   ],
   "source": [
    "# extract company departments from X-From and X-To and X-cc and X-bcc\n",
    "email_to_departments = {}\n",
    "\n",
    "multiple_count = 0\n",
    "# TODO: implement check for multiple emails in X-From and From. should be only one email\n",
    "for index, row in enron_df.iterrows():\n",
    "    x_emails = extract_emails(row['X-From'])\n",
    "    emails = set([mail.lower() for mail in (extract_emails(row['From']) + x_emails)])\n",
    "    if len(emails) == 0:\n",
    "        continue\n",
    "    if len(emails) > 1:\n",
    "        emails = [mail for mail in emails if not mail.startswith('imceanotes')]\n",
    "        if len(emails) > 1 or len(emails) == 0:\n",
    "            # print(f\"From: {row['From']} X-From: {row['X-From']} has multiple emails: {emails}\")\n",
    "            multiple_count += 1\n",
    "\n",
    "    for email in emails:\n",
    "        email = email.lower()\n",
    "        # TODO: validate company email starts with enron.com\n",
    "        if \"enron.com\" not in email:\n",
    "            email_to_departments.update({email: 'NA'})\n",
    "        else:\n",
    "            if email in email_to_departments and email_to_departments[email] != 'Other':\n",
    "                continue\n",
    "            if 'EES' in row['X-From']:\n",
    "                email_to_departments.update({email: 'EES'})\n",
    "            elif 'ECT' in row['X-From']:\n",
    "                email_to_departments.update({email: 'ECT'})\n",
    "            else:\n",
    "                email_to_departments.update({email: 'Other'})\n",
    "\n",
    "\n",
    "email_to_departments.update({'eric.bass@enron.com': 'ECT'})\n",
    "\n",
    "# print multiple count\n",
    "print(f\"multiple count {multiple_count}\")\n",
    "\n",
    "\n",
    "# extract emails from X-From, X-To, X-cc, X-bcc where the email is not from enron.com\n",
    "def get_all_outside_mail(mails):\n",
    "    return [mail for mail in mails if 'enron.com' not in mail.lower()]\n",
    "\n",
    "all_outside_emails = get_all_outside_mail(all_mails)\n",
    "print(f\"Total number of emails outside enron.com: {len(all_outside_emails)}\")\n",
    "\n",
    "counter = 0\n",
    "for email in all_outside_emails:\n",
    "    if email not in email_to_departments:\n",
    "        email_to_departments.update({email: 'NA'})\n",
    "    # elif email_to_departments[email] != 'Other':\n",
    "        # print(f\"Email: {email} is from EES or ECT\")\n",
    "        # counter += 1\n",
    "    # else:\n",
    "        # print(f\"Email: {email} already exists in email_to_departments and is from Other department\")\n",
    "\n",
    "print(f\"Total number of emails outside enron.com with departments: {len(all_outside_emails) - counter}\")\n",
    "\n",
    "\n",
    "counter = {}\n",
    "for key, value in email_to_departments.items():\n",
    "    if value in counter:\n",
    "        counter[value] += 1\n",
    "    else:\n",
    "        counter[value] = 1\n",
    "\n",
    "# print dictionary\n",
    "for key, value in counter.items():\n",
    "    print(key, value)"
   ]
  },
  {
   "cell_type": "code",
   "execution_count": 108,
   "id": "adbcd288",
   "metadata": {},
   "outputs": [
    {
     "name": "stdout",
     "output_type": "stream",
     "text": [
      "Number of unique emails in ECT: 754\n"
     ]
    }
   ],
   "source": [
    "ect_mails = enron_df[enron_df['violated_rules'].str.contains('2.1', na=False)]\n",
    "ect_mails = ect_mails['From'] + ect_mails['X-From']\n",
    "ect_mails = ect_mails.apply(extract_sent_to_emails)\n",
    "ect_mails = ect_mails.apply(lambda x: set(x))\n",
    "ect_mails = set.union(*ect_mails)\n",
    "\n",
    "print(f\"Number of unique emails in ECT: {len(ect_mails)}\")\n",
    "for email in ect_mails:\n",
    "    if email not in email_to_departments:\n",
    "        email_to_departments.update({email: 'ECT'})"
   ]
  },
  {
   "cell_type": "code",
   "execution_count": 109,
   "id": "63b55e8e",
   "metadata": {},
   "outputs": [
    {
     "name": "stdout",
     "output_type": "stream",
     "text": [
      "Could not extract email from: u@d.h\n",
      "Could not extract email from: pep <performance.>\n"
     ]
    }
   ],
   "source": [
    "enron_df['From_department'] = enron_df['From'].apply(lambda x: email_to_departments[extract_single_email_from_text(x)] if extract_single_email_from_text(x) in email_to_departments else 'Other')"
   ]
  },
  {
   "cell_type": "code",
   "execution_count": 110,
   "id": "86167644",
   "metadata": {},
   "outputs": [],
   "source": [
    "def get_department(emails, wanted_Department):\n",
    "    for email in emails:\n",
    "        if email in email_to_departments:\n",
    "            if email_to_departments[email] == wanted_Department:\n",
    "                return True\n",
    "    return False\n",
    "\n",
    "enron_df['sent_to'] = enron_df['To'].apply(extract_sent_to_emails) + enron_df['X-To'].apply(extract_sent_to_emails) + enron_df['X-cc'].apply(extract_sent_to_emails) + enron_df['X-bcc'].apply(extract_sent_to_emails)\n",
    "enron_df['To_EES'] = enron_df['sent_to'].apply(lambda x: get_department(x, 'EES'))\n",
    "enron_df['To_ECT'] = enron_df['sent_to'].apply(lambda x: get_department(x, 'ECT'))\n"
   ]
  },
  {
   "cell_type": "code",
   "execution_count": 111,
   "id": "d51b65d6",
   "metadata": {},
   "outputs": [
    {
     "name": "stdout",
     "output_type": "stream",
     "text": [
      "True\n",
      "NA\n"
     ]
    }
   ],
   "source": [
    "enron_df['email_text'] = enron_df['Subject'] + ' ' + enron_df['email_body']"
   ]
  },
  {
   "cell_type": "code",
   "execution_count": 1,
   "id": "39c41a3e",
   "metadata": {},
   "outputs": [],
   "source": [
    "from gensim import corpora, models, similarities\n",
    "from gensim.parsing.preprocessing import STOPWORDS\n",
    "from nltk.stem import WordNetLemmatizer\n",
    "import nltk\n",
    "\n",
    "want_to_check = False\n",
    "\n",
    "if want_to_check:\n",
    "    # Ensuring necessary nltk resources are available\n",
    "    nltk.download('wordnet')\n",
    "\n",
    "    model_path = 'lda_model.gensim'\n",
    "\n",
    "    lemmatizer = WordNetLemmatizer()\n",
    "\n",
    "    # Text preprocessing function\n",
    "    def preprocess_text(document:str):\n",
    "        return [lemmatizer.lemmatize(word) for word in document.lower().split() if word not in STOPWORDS and word.isalpha()]\n",
    "\n",
    "    # Preprocessed documents\n",
    "    texts = enron_df['email_text'].apply(preprocess_text)\n",
    "\n",
    "    # # Step 2: Prepare a dictionary and corpus\n",
    "    dictionary = corpora.Dictionary(texts)\n",
    "    corpus = [dictionary.doc2bow(text) for text in texts]\n",
    "\n",
    "    if os.path.exists(model_path):\n",
    "        print(\"Model found\")\n",
    "        lda_model = models.LdaModel.load(model_path)\n",
    "    else:\n",
    "        print(\"Model not found\")\n",
    "        # Apply LDA model\n",
    "        lda_model = models.LdaModel(corpus, num_topics=5, id2word=dictionary, passes=15)\n",
    "\n",
    "\n"
   ]
  },
  {
   "cell_type": "code",
   "execution_count": null,
   "id": "cda11006",
   "metadata": {},
   "outputs": [],
   "source": [
    "lda_model.save('lda_model.gensim')"
   ]
  },
  {
   "cell_type": "code",
   "execution_count": null,
   "id": "754f14c1",
   "metadata": {},
   "outputs": [],
   "source": [
    "# # Step 4: Print the topics\n",
    "topics = lda_model.print_topics(num_words=5)\n",
    "for topic in topics:\n",
    "    print(topic)\n",
    "\n",
    "# # Step 5: Apply the LDA model to the corpus\n",
    "lda_corpus = lda_model[corpus]\n",
    "\n",
    "# # Step 6: Extract the topics\n",
    "lda_topics = [max(probabilities, key=lambda x: x[1])[0] for probabilities in lda_corpus]\n"
   ]
  },
  {
   "cell_type": "code",
   "execution_count": null,
   "id": "1833a134",
   "metadata": {},
   "outputs": [],
   "source": [
    "# Assign the most dominant topic to each document\n",
    "dominant_topics = []\n",
    "for i, row_list in enumerate(lda_model[corpus]):\n",
    "    row = row_list[0] if lda_model.per_word_topics else row_list            \n",
    "    # Sort with the most highly related topics first\n",
    "    row = sorted(row, key=lambda x: (x[1]), reverse=True)\n",
    "    # Get the dominant topic, its percentage contribution, and keywords for each document\n",
    "    # for j, (topic_num, prop_topic) in enumerate(row):\n",
    "    #     if j == 0:  # => dominant topic\n",
    "    #         dominant_topics.append((i, topic_num, prop_topic))\n",
    "    if row and row[0][0] in {0, 1}:  # Check if the dominant topic is 0 or 1\n",
    "        dominant_topics.append((i, row[0][0], row[0][1]))  # doc index, topic number, and weight\n",
    "\n",
    "\n",
    "# Get the top words for each topic (example: top 10 words)\n",
    "for topic_id in range(lda_model.num_topics):\n",
    "    words = lda_model.show_topic(topic_id, 10)\n",
    "    print(f\"Topic {topic_id}: {[word for word, prob in words]}\")\n",
    "\n",
    "topic_to_label_map = {\n",
    "    0: '1.2',\n",
    "    1: '1.1',\n",
    "    # 2: 'None',\n",
    "    # 3: 'label_for_topic_3',\n",
    "    # 4: 'label_for_topic_4'\n",
    "    # continue mapping based on your topics and labels\n",
    "}\n",
    "\n",
    "actual_labels = enron_df['violated_rules'].tolist()\n",
    "\n",
    "# Extract labels from the dataframe, but only for the filtered documents\n",
    "filtered_labels = [enron_df.iloc[idx]['violated_rules'] for idx, topic_num, _ in dominant_topics]\n",
    "\n",
    "# Map topics to your labels based on the dominant topic for each document\n",
    "mapped_labels = [topic_to_label_map[topic_num] for _, topic_num, _ in dominant_topics]\n",
    "\n",
    "# Calculate accuracy\n",
    "accuracy = sum(1 for actual, predicted in zip(filtered_labels, mapped_labels) if actual in predicted) / len(filtered_labels)\n",
    "print(f\"Accuracy: {accuracy:.2f}\")"
   ]
  },
  {
   "cell_type": "code",
   "execution_count": null,
   "id": "9ce3b455",
   "metadata": {},
   "outputs": [],
   "source": [
    "from sklearn.model_selection import train_test_split\n",
    "from sklearn.feature_extraction.text import TfidfVectorizer\n",
    "from sklearn.naive_bayes import MultinomialNB\n",
    "from sklearn.pipeline import make_pipeline\n",
    "from sklearn.metrics import classification_report\n",
    "\n",
    "\n",
    "labels = [ 'legal', 'business', 'financial', 'business or financial', 'other']\n",
    "\n",
    "def rule_to_label(rule):\n",
    "    if '1.1' in rule:\n",
    "        return 'legal'\n",
    "    elif '1.2' in rule:\n",
    "        return 'financial'\n",
    "    elif '1.3' in rule:\n",
    "        return 'business or financial'\n",
    "    return 'other'\n",
    "\n",
    "enron_df['label'] = enron_df['violated_rules'].apply(rule_to_label)\n"
   ]
  },
  {
   "cell_type": "code",
   "execution_count": null,
   "id": "6bd1dd75",
   "metadata": {},
   "outputs": [],
   "source": [
    "filtered = enron_df[enron_df['violated_rules'].str.contains('1.1', na=False)]\n",
    "\n",
    "# plot the filtered pd dataframe with the count of EES and ECT\n",
    "# filtered.plot.scatter(x='EES_count', y='ECT_count', title='Count of EES vs. ECT in Violated Emails')\n",
    "not_filtered = enron_df[~enron_df['violated_rules'].str.contains('1.1', na=False)]\n",
    "\n",
    "# plot the not filtered pd dataframe with the count of EES and ECT\n",
    "# not_filtered.plot.scatter(x='EES_count', y='ECT_count', title='Count of EES vs. ECT in Non-violated Emails')\n",
    "\n",
    "filtered.head(10)\n",
    "\n",
    "print(filtered.shape)\n",
    "filtered_ees_ect = filtered[(filtered['ECT_count'] == 0) & (filtered['EES_count'] == 0)]\n",
    "print(filtered_ees_ect.shape)\n",
    "filtered.head(10)\n"
   ]
  },
  {
   "cell_type": "code",
   "execution_count": null,
   "id": "c090a74b",
   "metadata": {},
   "outputs": [],
   "source": [
    "\n",
    "# TODO: need to check if we need to drop rows with null values in 'To' column.\n",
    "def count_nulls(df, columns):\n",
    "    \"\"\"Print the number of nulls in specified columns of a dataframe.\"\"\"\n",
    "    for column in columns:\n",
    "        null_count = df[column].isnull().sum()\n",
    "        print(f\"Number of rows with null values in '{column}': {null_count}\")\n",
    "\n",
    "def drop_nulls(df, columns):\n",
    "    \"\"\"Drop rows from the dataframe where specified columns have null values.\"\"\"\n",
    "    before_drop = df.shape[0]\n",
    "    df.dropna(subset=columns, inplace=True)\n",
    "    after_drop = df.shape[0]\n",
    "    print(f\"Dropped {before_drop - after_drop} rows. Remaining rows: {after_drop}\")\n",
    "\n",
    "def apply_lower_case(df, columns):\n",
    "    \"\"\"Convert the contents of specified columns in the dataframe to lower case.\"\"\"\n",
    "    for column in columns:\n",
    "        df[column] = df[column].str.lower()\n",
    "\n",
    "# replace empty missing value in subject with np.nan\n",
    "def replace_empty_with_nan(subject):\n",
    "    column=[]\n",
    "    for sub in subject:\n",
    "        if sub==\"\":\n",
    "            column.append(np.nan)\n",
    "        else:\n",
    "            column.append(sub)\n",
    "    return column\n",
    "\n",
    "\n",
    "def process_dataframe(df):\n",
    "    # Identify columns to check for nulls and to convert to lower case inplace!\n",
    "    columns_to_check = ['From', 'To']\n",
    "    email_related_columns = ['From', 'To', 'X-From', 'X-To', 'X-cc', 'X-bcc']\n",
    "\n",
    "    # Null removal process\n",
    "    count_nulls(df, columns_to_check)\n",
    "    drop_nulls(df, columns_to_check)\n",
    "    \n",
    "    # Convert email related columns to lower case (email is case insensitive)\n",
    "    apply_lower_case(df, email_related_columns)\n",
    "    "
   ]
  },
  {
   "cell_type": "code",
   "execution_count": null,
   "id": "94ae7b66",
   "metadata": {},
   "outputs": [],
   "source": [
    "from datetime import datetime\n",
    "from dateutil import parser\n",
    "\n",
    "def parse_date(date_str):\n",
    "    # Parse the datetime string including timezone using dateutil.parser\n",
    "    dt = parser.parse(date_str)\n",
    "    \n",
    "    # Extract components\n",
    "    day_of_week = dt.strftime('%A')\n",
    "    day = dt.day\n",
    "    month = dt.month\n",
    "    year = dt.year\n",
    "    time_in_minutes = (dt.hour * 60 + dt.minute) / 1440  # Convert time to minutes and normalize\n",
    "    timezone = dt.tzname()  # Gets the timezone name\n",
    "    \n",
    "    return day_of_week, day, month, year, time_in_minutes, timezone\n",
    "\n",
    "\n",
    "def get_email_type(text):\n",
    "    \"\"\"\n",
    "    Function to determine the type of email based on the subject line.\n",
    "    Forwarded emails start with 'Fo', replies start with 'Re', and other emails are 'Normal'.\n",
    "    \"\"\"\n",
    "    if text.startswith('Fo') or text.startswith('Re') or text.startswith('FW'):\n",
    "        return text[:2]\n",
    "    else:\n",
    "        return 'Normal'\n",
    "\n",
    "def split_email_addresses(line):\n",
    "    \"\"\"\n",
    "    Function to split email addresses in the 'From' and 'To' columns.\n",
    "    The email addresses are separated by commas.\n",
    "    TODO: need to add regex to extract email addresses from the text.\n",
    "    \"\"\"\n",
    "\n",
    "    if line:\n",
    "        addrs = line.split(',')\n",
    "        for i, addr in enumerate(addrs):\n",
    "            # Remove any names in the email addresses\n",
    "            if '<' in addr:\n",
    "                pass\n",
    "        addrs = frozenset(map(lambda x: x.strip(), addrs))\n",
    "    else:\n",
    "        addrs = None\n",
    "    return addrs\n",
    "\n",
    "\n",
    "\n",
    "def transform_dataframe(df, split_date=True):\n",
    "    # transform the 'Date' column to extract day of week, day, month, year, time in minutes, and timezone\n",
    "    if split_date:\n",
    "        df['day_of_week'], df['day'], df['month'], df['year'], df['time_in_minutes'], df['timezone'] = zip(*df['Date'].apply(parse_date))\n",
    "        df.drop(columns=['Date'], inplace=True)\n",
    "\n",
    "    # add a new column 'email_type' to the dataframe, which represents the type of email (Foward, Reply, Normal)\n",
    "    df['email_type'] = df['Subject'].apply(get_email_type)\n",
    "\n",
    "        \n",
    "    df['From'] = df['From'].map(split_email_addresses)\n",
    "    df['To'] = df['To'].map(split_email_addresses)\n",
    "    \n",
    "    return df"
   ]
  },
  {
   "cell_type": "code",
   "execution_count": null,
   "id": "6cc5c564",
   "metadata": {},
   "outputs": [],
   "source": [
    "process_dataframe(enron_df)\n",
    "transform_dataframe(enron_df, split_date=False)\n",
    "\n",
    "enron_df.head(10)"
   ]
  },
  {
   "cell_type": "markdown",
   "id": "271dc854",
   "metadata": {},
   "source": [
    "ADL performence"
   ]
  },
  {
   "cell_type": "code",
   "execution_count": null,
   "id": "7e8e1e6a",
   "metadata": {},
   "outputs": [],
   "source": [
    "user_to_place = {}\n",
    "user_to_role = {}\n",
    "\n",
    "def add_user_to_role(email, role):\n",
    "    user_to_role[email] = role\n",
    "\n",
    "def add_user_to_place(email, place):\n",
    "    user_to_place[email] = place\n",
    "\n",
    "def extract_custom_format(text):\n",
    "    # Regular expression pattern to capture structured tags\n",
    "    pattern = r'<o=([^/]+)/ou=([^/]+)/cn=([^/]+)/cn=([^>]+)>'\n",
    "    match = re.search(pattern, text)\n",
    "    if match:\n",
    "        # Extracting each group as a separate part\n",
    "        return {\n",
    "            'organization': match.group(1),\n",
    "            'unit': match.group(2),\n",
    "            'container1': match.group(3),\n",
    "            'container2': match.group(4)\n",
    "        }\n",
    "    return None\n",
    "\n",
    "\n",
    "for row in enron_df:\n",
    "    from_email = row['From']\n",
    "    email_pattern = r'\\b[A-Za-z0-9._%+-]+@[A-Za-z0-9.-]+\\.[A-Z|a-z]{2,}\\b'\n",
    "    # Finding all substrings that match the pattern\n",
    "    emails = re.findall(email_pattern, from_email)\n",
    "    if len(emails) == 1:\n",
    "        pass"
   ]
  },
  {
   "cell_type": "code",
   "execution_count": null,
   "id": "10136a2b",
   "metadata": {},
   "outputs": [],
   "source": [
    "def is_between_ect_and_ees(row):\n",
    "    sender_email = extract_single_email_from_text(row['From'])\n",
    "    if sender_email in email_to_departments:\n",
    "        sender_department = email_to_departments[sender_email]\n",
    "        if sender_department != 'ECT' and sender_department != 'EES':\n",
    "            return False\n",
    "        else:\n",
    "            reciever_emails = extract_sent_to_emails(row['To']) + extract_sent_to_emails(row['X-To']) + extract_sent_to_emails(row['X-cc']) + extract_sent_to_emails(row['X-bcc'])\n",
    "            for email in reciever_emails:\n",
    "                if email in email_to_departments:\n",
    "                    reciever_department = email_to_departments[email]\n",
    "\n",
    "                    if sender_department == 'ECT' and reciever_department == 'EES':\n",
    "                        return True\n",
    "                    elif sender_department == 'EES' and reciever_department == 'ECT':\n",
    "                        return True\n",
    "    else:\n",
    "        return False\n",
    "\n",
    "\n",
    "def is_between_EU_US(row):\n",
    "    pass\n",
    "\n",
    "def is_outside_ECT(row):\n",
    "    pass\n",
    "\n",
    "def is_sending_outside_corp(row):\n",
    "    reciever_emails = extract_sent_to_emails(row['To']) + extract_sent_to_emails(row['X-To']) + extract_sent_to_emails(row['X-cc']) + extract_sent_to_emails(row['X-bcc'])\n",
    "    reciever_emails = set(mail.lower() for mail in reciever_emails)\n",
    "    for email in reciever_emails:\n",
    "        if \"@enron.com\" not in email:\n",
    "            return True\n",
    "    return False\n",
    "\n",
    "\n",
    "# test = enron_df.apply(is_sending_outside_corp, axis=1)\n",
    "# # print(test.value_counts())\n",
    "\n",
    "# test_with_correct = enron_df[enron_df['violated_rules'].str.contains('2.3', na=False)]\n",
    "\n",
    "# test_with_correct['is_outside'] = test_with_correct.apply(is_sending_outside_corp, axis=1)\n",
    "\n",
    "# # print(test_with_correct.value_counts())\n",
    "# pd.set_option('display.max_colwidth', 255)\n",
    "# test_with_correct[test_with_correct['is_outside'] == False].head(10)\n"
   ]
  },
  {
   "cell_type": "code",
   "execution_count": null,
   "id": "390ec42c",
   "metadata": {},
   "outputs": [],
   "source": [
    "# # ADL\n",
    "# from sklearn.feature_extraction.text import CountVectorizer\n",
    "# from sklearn.decomposition import LatentDirichletAllocation\n",
    "\n",
    "# ADL_data = enron_df[['email_body', 'violated_rules']].copy()\n",
    "\n",
    "# filtered_data = ADL_data.dropna()\n",
    "# ADL_data.head(10)\n",
    "\n",
    "\n",
    "# # Text preprocessing and vectorization\n",
    "# vectorizer = CountVectorizer(stop_words='english', max_df=0.95, min_df=2)\n",
    "# dtm = vectorizer.fit_transform(filtered_data['email_body'])  # Document-term matrix\n",
    "\n",
    "\n",
    "# n_topics = 3  # You can choose this number based on unique labels or other criteria\n",
    "# lda = LatentDirichletAllocation(n_components=n_topics, random_state=0)\n",
    "# lda.fit(dtm)\n",
    "\n",
    "# # Display the topics found by the LDA model\n",
    "# def display_topics(model, feature_names, no_top_words):\n",
    "#     for topic_idx, topic in enumerate(model.components_):\n",
    "#         print(\"Topic %d:\" % (topic_idx))\n",
    "#         print(\" \".join([feature_names[i]\n",
    "#                         for i in topic.argsort()[:-no_top_words - 1:-1]]))\n",
    "\n",
    "# no_top_words = 5\n",
    "# display_topics(lda, vectorizer.get_feature_names_out(), no_top_words)\n"
   ]
  }
 ],
 "metadata": {
  "kernelspec": {
   "display_name": "Python 3 (ipykernel)",
   "language": "python",
   "name": "python3"
  },
  "language_info": {
   "codemirror_mode": {
    "name": "ipython",
    "version": 3
   },
   "file_extension": ".py",
   "mimetype": "text/x-python",
   "name": "python",
   "nbconvert_exporter": "python",
   "pygments_lexer": "ipython3",
   "version": "3.11.4"
  }
 },
 "nbformat": 4,
 "nbformat_minor": 5
}
