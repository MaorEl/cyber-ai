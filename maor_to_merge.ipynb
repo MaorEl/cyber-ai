{
 "cells": [
  {
   "cell_type": "code",
   "execution_count": 1,
   "id": "initial_id",
   "metadata": {
    "collapsed": true
   },
   "outputs": [
    {
     "name": "stderr",
     "output_type": "stream",
     "text": [
      "[nltk_data] Downloading package stopwords to C:\\Users\\Efraim\n",
      "[nltk_data]     Yosofov\\AppData\\Roaming\\nltk_data...\n",
      "[nltk_data]   Package stopwords is already up-to-date!\n",
      "[nltk_data] Downloading package wordnet to C:\\Users\\Efraim\n",
      "[nltk_data]     Yosofov\\AppData\\Roaming\\nltk_data...\n",
      "[nltk_data]   Package wordnet is already up-to-date!\n"
     ]
    }
   ],
   "source": [
    "import pickle\n",
    "from sklearn.multiclass import OneVsRestClassifier\n",
    "import dataclasses\n",
    "import preprocessing\n",
    "\n",
    "@dataclasses.dataclass()\n",
    "class TopicAnalysisResult:\n",
    "    is_legal: bool = False\n",
    "    is_business: bool = False\n",
    "    is_finance: bool = False\n",
    "    \n",
    "class TopicAnalyzer:\n",
    "    # todo efi\n",
    "    def __init__(self):\n",
    "        self.model: OneVsRestClassifier = pickle.load(open(\"random_forest_model.pkl\", 'rb'))\n",
    "        \n",
    "    def predict(self, row) -> TopicAnalysisResult:\n",
    "        result = TopicAnalysisResult()\n",
    "        result.is_legal = self.is_legal(row)\n",
    "        result.is_business = self.is_business(row)\n",
    "        result.is_finance = self.is_finance(row)\n",
    "        \n",
    "        return result\n",
    "\n",
    "    def is_business(self, row):        \n",
    "        text = self.process_text(row)\n",
    "        res =  self.model.predict(text)\n",
    "        if res[2] != 0:\n",
    "            return True\n",
    "        return False\n",
    "    \n",
    "    \n",
    "    def is_finance(self, row):\n",
    "        text = self.process_text(row)\n",
    "        res =  self.model.predict(text)\n",
    "        if res[1] != 0:\n",
    "            return True\n",
    "        return False\n",
    "    \n",
    "    \n",
    "    def is_legal(self, row):\n",
    "        text = self.process_text(row)\n",
    "        res = self.model.predict(text)\n",
    "        if res[0] != 0:\n",
    "            return True\n",
    "        return False\n",
    "    \n",
    "    def process_text(self, row):\n",
    "        subject = row['subject']\n",
    "        body = row['email_body']\n",
    "        text = preprocessing.preprocess_text(subject + \" \" + body, should_remove_small_words=True, should_remove_digits=True, lemmatize=True)\n",
    "        return text"
   ]
  }
 ],
 "metadata": {
  "kernelspec": {
   "display_name": "Python 3",
   "language": "python",
   "name": "python3"
  },
  "language_info": {
   "codemirror_mode": {
    "name": "ipython",
    "version": 3
   },
   "file_extension": ".py",
   "mimetype": "text/x-python",
   "name": "python",
   "nbconvert_exporter": "python",
   "pygments_lexer": "ipython3",
   "version": "3.11.4"
  }
 },
 "nbformat": 4,
 "nbformat_minor": 5
}
